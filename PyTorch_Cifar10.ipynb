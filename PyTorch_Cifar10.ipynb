{
  "nbformat": 4,
  "nbformat_minor": 0,
  "metadata": {
    "colab": {
      "provenance": [],
      "gpuType": "T4"
    },
    "kernelspec": {
      "name": "python3",
      "display_name": "Python 3"
    },
    "language_info": {
      "name": "python"
    },
    "accelerator": "GPU"
  },
  "cells": [
    {
      "cell_type": "markdown",
      "source": [
        "(line 17~18)\n",
        "1. Normalization 68.13%\n",
        "2. None Preprocessing 64%\n",
        "3. Random Crop + Normalization 68.99%...我測:67.79%\n",
        "4. Random Crop + Normalization + RandomHorizontalFlip 68.70%...我測:67.53%\n"
      ],
      "metadata": {
        "id": "Xos2wb1fvdKK"
      }
    },
    {
      "cell_type": "code",
      "execution_count": null,
      "metadata": {
        "colab": {
          "base_uri": "https://localhost:8080/"
        },
        "id": "MBJspadfetQj",
        "outputId": "d6a48822-7141-411f-d3d7-adeab1454827"
      },
      "outputs": [
        {
          "output_type": "stream",
          "name": "stdout",
          "text": [
            "Files already downloaded and verified\n",
            "Files already downloaded and verified\n"
          ]
        }
      ],
      "source": [
        "import torch\n",
        "import torch.nn as nn\n",
        "import torchvision\n",
        "import matplotlib.pyplot as plt\n",
        "import torch.utils.data as Data\n",
        "from torch.autograd import Variable\n",
        "import os\n",
        "\n",
        "DOANLOAD_DATASET = True\n",
        "LR = 0.001\n",
        "BATCH_SIZE=256\n",
        "EPOCH = 10\n",
        "MODELS_PATH = './models'\n",
        "\n",
        "\n",
        "train_transform = torchvision.transforms.Compose([\n",
        "    # torchvision.transforms.RandomCrop(32, 4),\n",
        "    # torchvision.transforms.RandomHorizontalFlip(),\n",
        "    torchvision.transforms.ToTensor(),\n",
        "    torchvision.transforms.Normalize((.5, .5, .5), (.5, .5, .5))\n",
        "])\n",
        "\n",
        "\n",
        "test_transform = torchvision.transforms.Compose([\n",
        "    torchvision.transforms.ToTensor(),\n",
        "    torchvision.transforms.Normalize((.5, .5, .5), (.5, .5, .5))\n",
        "])\n",
        "\n",
        "train_data = torchvision.datasets.CIFAR10(\n",
        "    root='./cifar10',\n",
        "    train=True,\n",
        "    transform=train_transform,\n",
        "    download=DOANLOAD_DATASET\n",
        ")\n",
        "\n",
        "test_data = torchvision.datasets.CIFAR10(\n",
        "    root='./cifar10',\n",
        "    train=False,\n",
        "    transform=test_transform,\n",
        "    download=DOANLOAD_DATASET\n",
        ")"
      ]
    },
    {
      "cell_type": "code",
      "source": [
        "data_loader = Data.DataLoader(\n",
        "    dataset=train_data,\n",
        "    batch_size=BATCH_SIZE,\n",
        "    shuffle=True\n",
        ")"
      ],
      "metadata": {
        "id": "IfmyoEMEkbOs"
      },
      "execution_count": null,
      "outputs": []
    },
    {
      "cell_type": "code",
      "source": [
        "classes = ['airplane', 'automobile', 'bird', 'cat', 'deer', 'dog', 'frog', 'horse', 'ship', 'truck']"
      ],
      "metadata": {
        "id": "ncZuiLjJhEwO"
      },
      "execution_count": null,
      "outputs": []
    },
    {
      "cell_type": "code",
      "source": [
        "class CNN(nn.Module):\n",
        "  def __init__(self, num_classes: int):\n",
        "    super(CNN, self).__init__()\n",
        "    self.num_classes = num_classes\n",
        "\n",
        "    # in[N, 3, 32, 32] => out[N, 16, 16, 16]\n",
        "    self.conv1 = nn.Sequential(\n",
        "        nn.Conv2d(\n",
        "            in_channels=3,\n",
        "            out_channels=16,\n",
        "            kernel_size=5,\n",
        "            stride=1,\n",
        "            padding=2\n",
        "        ),\n",
        "        nn.ReLU(True),\n",
        "        nn.MaxPool2d(kernel_size=2)\n",
        "    )\n",
        "    # in[N, 16, 16, 16] => out[N, 32, 8, 8]\n",
        "    self.conv2 = nn.Sequential(\n",
        "        nn.Conv2d(16, 32, 5, 1, 2),\n",
        "        nn.ReLU(True),\n",
        "        nn.MaxPool2d(2)\n",
        "\n",
        "    )\n",
        "    # in[N, 32 * 8 * 8] => out[N, 128]\n",
        "    self.fc1 = nn.Sequential(\n",
        "        nn.Linear(32 * 8 * 8, 128),\n",
        "        nn.ReLU(True)\n",
        "    )\n",
        "    # in[N, 128] => out[N, 64]\n",
        "    self.fc2 = nn.Sequential(\n",
        "        nn.Linear(128, 64),\n",
        "        nn.ReLU(True)\n",
        "    )\n",
        "    # in[N, 64] => out[N, 10]\n",
        "    self.out = nn.Linear(64, self.num_classes)\n",
        "\n",
        "  def forward(self, x):\n",
        "    x = self.conv1(x)\n",
        "    x = self.conv2(x)\n",
        "    x = x.view(x.size(0), -1) # [N, 32 * 8 * 8]\n",
        "    x = self.fc1(x)\n",
        "    x = self.fc2(x)\n",
        "    output = self.out(x)\n",
        "    return output"
      ],
      "metadata": {
        "id": "HKpJ-pRikr94"
      },
      "execution_count": null,
      "outputs": []
    },
    {
      "cell_type": "code",
      "source": [
        "cnn = CNN(len(classes))\n",
        "optimizer = torch.optim.Adam(cnn.parameters(), lr=LR)\n",
        "loss_function = nn.CrossEntropyLoss()\n",
        "\n",
        "for epoch in range(EPOCH):\n",
        "  cnn.train()\n",
        "  for step, (x, y) in enumerate(data_loader):\n",
        "    b_x = Variable(x, requires_grad=False)\n",
        "    b_y = Variable(y, requires_grad=False)\n",
        "    out = cnn(b_x)\n",
        "    loss = loss_function(out, b_y)\n",
        "\n",
        "    optimizer.zero_grad()\n",
        "    loss.backward()\n",
        "    optimizer.step()\n",
        "\n",
        "    if step % 100 == 0:\n",
        "      print('Epoch: {} | Step: {} | Loss: {}'.format(epoch + 1, step, loss))\n",
        "print('Done.')\n",
        "if not os.path.exists(MODELS_PATH):\n",
        "  os.mkdir(MODELS_PATH)\n",
        "torch.save(cnn, os.path.join(MODELS_PATH, 'cnn_model.pt'))\n",
        "print('Model Saved.')"
      ],
      "metadata": {
        "colab": {
          "base_uri": "https://localhost:8080/"
        },
        "id": "LO1rHMe0m99s",
        "outputId": "529288a7-fc4c-461e-f56a-9f4f597af093"
      },
      "execution_count": null,
      "outputs": [
        {
          "output_type": "stream",
          "name": "stdout",
          "text": [
            "Epoch: 1 | Step: 0 | Loss: 2.3111119270324707\n",
            "Epoch: 1 | Step: 100 | Loss: 1.6786928176879883\n",
            "Epoch: 2 | Step: 0 | Loss: 1.5457062721252441\n",
            "Epoch: 2 | Step: 100 | Loss: 1.5607266426086426\n",
            "Epoch: 3 | Step: 0 | Loss: 1.4526995420455933\n",
            "Epoch: 3 | Step: 100 | Loss: 1.4075225591659546\n",
            "Epoch: 4 | Step: 0 | Loss: 1.2629926204681396\n",
            "Epoch: 4 | Step: 100 | Loss: 1.2712762355804443\n",
            "Epoch: 5 | Step: 0 | Loss: 1.1919362545013428\n",
            "Epoch: 5 | Step: 100 | Loss: 1.1716136932373047\n",
            "Epoch: 6 | Step: 0 | Loss: 1.0951350927352905\n",
            "Epoch: 6 | Step: 100 | Loss: 1.0656310319900513\n",
            "Epoch: 7 | Step: 0 | Loss: 1.1962224245071411\n",
            "Epoch: 7 | Step: 100 | Loss: 1.1916143894195557\n",
            "Epoch: 8 | Step: 0 | Loss: 1.1001381874084473\n",
            "Epoch: 8 | Step: 100 | Loss: 1.1029504537582397\n",
            "Epoch: 9 | Step: 0 | Loss: 1.0669103860855103\n",
            "Epoch: 9 | Step: 100 | Loss: 0.8956103920936584\n",
            "Epoch: 10 | Step: 0 | Loss: 1.0907150506973267\n",
            "Epoch: 10 | Step: 100 | Loss: 0.891814112663269\n",
            "Done.\n",
            "Model Saved.\n"
          ]
        }
      ]
    },
    {
      "cell_type": "code",
      "source": [
        "test_loader = Data.DataLoader(\n",
        "    dataset=test_data,\n",
        "    batch_size=test_data.data.shape[0],\n",
        "    shuffle=False\n",
        ")\n",
        "test_x, test_y = next(iter(test_loader))\n",
        "print(test_x.shape)\n",
        "print(test_y.shape)\n",
        "\n",
        "cnn.eval()\n",
        "prediction = torch.argmax(cnn(test_x), 1)\n",
        "acc = torch.eq(prediction, test_y)\n",
        "print('Accuracy: {:.2%}'.format((torch.sum(acc) / acc.shape[0]).item()))"
      ],
      "metadata": {
        "colab": {
          "base_uri": "https://localhost:8080/"
        },
        "id": "qAVlZMT7Ceyo",
        "outputId": "fadb8e0c-5863-443c-808f-c81499ad62f5"
      },
      "execution_count": null,
      "outputs": [
        {
          "output_type": "stream",
          "name": "stdout",
          "text": [
            "torch.Size([10000, 3, 32, 32])\n",
            "torch.Size([10000])\n",
            "Accuracy: 67.53%\n"
          ]
        }
      ]
    }
  ]
}